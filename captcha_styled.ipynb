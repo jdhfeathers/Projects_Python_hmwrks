{
 "cells": [
  {
   "cell_type": "code",
   "execution_count": 92,
   "metadata": {},
   "outputs": [
    {
     "name": "stdout",
     "output_type": "stream",
     "text": [
      "\u001b[34m\n",
      "\u001b[48;5;109m\n",
      "\u001b[4m['r', '7', 'p', 'i', 'b']\u001b[0m\n",
      "please enter the secuence:\n",
      "r7pib\n",
      "\u001b[30m\n",
      "\n",
      "welcome\n",
      "None\n"
     ]
    }
   ],
   "source": [
    "'''\n",
    "creating the structure for a captcha\n",
    "'''\n",
    "#global info\n",
    "abc='abcdefghijklmnopqrstuvwxyz'\n",
    "num='0123456789'\n",
    "lst=[]\n",
    "catcha=[]\n",
    "#wrt=[]\n",
    "#Modules\n",
    "import random\n",
    "from colorama import Fore\n",
    "import colored\n",
    "from colored import stylize\n",
    "from colored import fg,bg,attr\n",
    "\n",
    "\n",
    "\n",
    "\n",
    "\n",
    "# This function is to create the elements that most be iterate for captcha\n",
    "def lists():\n",
    "    for e in abc:\n",
    "        lst.append(e)\n",
    "    for e in num:\n",
    "        lst.append(e)   \n",
    "    return lst\n",
    "\n",
    "#print(lists())\n",
    "\n",
    "#this function is to create  catch\n",
    "#this are the elementss that I will ask for\n",
    "def catpcha(n):\n",
    "    lists()\n",
    "    for n in range(0,n):\n",
    "        catcha.append(random.choice(lst))\n",
    "    return (catcha)\n",
    "    \n",
    "#this function is to return 5 elements in the list\n",
    "def cathc_m():\n",
    "    return(catpcha(5))  \n",
    "#print (cathc_m())\n",
    "\n",
    "\n",
    "\n",
    "#this function is to create a list input elements\n",
    "def writecatch():\n",
    "    wrt=list(input('please enter the secuence:\\n'))\n",
    "    return wrt\n",
    "#print(writecatch())\n",
    "\n",
    "\n",
    "\n",
    "#to verify that the list are equal\n",
    "def last():\n",
    "    c=cathc_m()\n",
    "    print(Fore.BLUE)\n",
    "    print(bg(109))\n",
    "    print(stylize('{}'.format(c),colored.attr('underlined')))\n",
    "    z=writecatch()\n",
    "    #print(z)\n",
    "    print(Fore.BLACK)\n",
    "    if c==z:\n",
    "        print ('\\nwelcome')\n",
    "    elif c!=z:\n",
    "        print('Invalid Captcha')\n",
    "    else:\n",
    "        print('Sorry, try it later')\n",
    "\n",
    "print(last())"
   ]
  },
  {
   "cell_type": "code",
   "execution_count": 87,
   "metadata": {},
   "outputs": [
    {
     "name": "stdout",
     "output_type": "stream",
     "text": [
      "\u001b[4m0123456789\u001b[0m\n"
     ]
    }
   ],
   "source": [
    "print(stylize('{}'.format(num),colored.attr('underlined')))"
   ]
  },
  {
   "cell_type": "code",
   "execution_count": null,
   "metadata": {
    "collapsed": true
   },
   "outputs": [],
   "source": []
  }
 ],
 "metadata": {
  "kernelspec": {
   "display_name": "Python [default]",
   "language": "python",
   "name": "python3"
  },
  "language_info": {
   "codemirror_mode": {
    "name": "ipython",
    "version": 3
   },
   "file_extension": ".py",
   "mimetype": "text/x-python",
   "name": "python",
   "nbconvert_exporter": "python",
   "pygments_lexer": "ipython3",
   "version": "3.5.6"
  }
 },
 "nbformat": 4,
 "nbformat_minor": 1
}
