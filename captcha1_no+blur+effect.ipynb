{
 "cells": [
  {
   "cell_type": "code",
   "execution_count": 1,
   "metadata": {},
   "outputs": [
    {
     "name": "stdout",
     "output_type": "stream",
     "text": [
      "['q', '0', '4', 's', 'j']\n",
      "please enter the secuence:\n",
      "q04sj\n",
      "ok, welcome\n",
      "None\n"
     ]
    }
   ],
   "source": [
    "'''\n",
    "creating the structure for a captcha\n",
    "'''\n",
    "#global info\n",
    "abc='abcdefghijklmnopqrstuvwxyz'\n",
    "num='0123456789'\n",
    "lst=[]\n",
    "catcha=[]\n",
    "\n",
    "import random\n",
    "\n",
    "def lists():\n",
    "    for e in abc:\n",
    "        lst.append(e)\n",
    "    for e in num:\n",
    "        lst.append(e)   \n",
    "    return lst\n",
    "\n",
    "def catpcha(n):\n",
    "    lists()\n",
    "    for n in range(0,n):\n",
    "        catcha.append(random.choice(lst))\n",
    "    return (catcha)\n",
    "    \n",
    "\n",
    "def cathc_m():\n",
    "    return(catpcha(5))  \n",
    "\n",
    "\n",
    "def writecatch():\n",
    "    wrt=list(input('please enter the secuence:\\n'))\n",
    "    return wrt\n",
    "\n",
    "\n",
    "def last():\n",
    "    c=cathc_m()\n",
    "    print(c)\n",
    "    z=writecatch()\n",
    "    if c==z:\n",
    "        print ('ok, welcome')\n",
    "    elif c!=z:\n",
    "        print('Invalid Captcha')\n",
    "    else:\n",
    "        print('Sorry, try it later')\n",
    "\n",
    "print(last())"
   ]
  },
  {
   "cell_type": "code",
   "execution_count": null,
   "metadata": {
    "collapsed": true
   },
   "outputs": [],
   "source": []
  }
 ],
 "metadata": {
  "kernelspec": {
   "display_name": "Python [default]",
   "language": "python",
   "name": "python3"
  },
  "language_info": {
   "codemirror_mode": {
    "name": "ipython",
    "version": 3
   },
   "file_extension": ".py",
   "mimetype": "text/x-python",
   "name": "python",
   "nbconvert_exporter": "python",
   "pygments_lexer": "ipython3",
   "version": "3.5.6"
  }
 },
 "nbformat": 4,
 "nbformat_minor": 1
}
