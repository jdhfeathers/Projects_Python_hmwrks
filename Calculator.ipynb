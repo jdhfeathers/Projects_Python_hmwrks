{
 "cells": [
  {
   "cell_type": "code",
   "execution_count": 3,
   "metadata": {},
   "outputs": [
    {
     "name": "stdout",
     "output_type": "stream",
     "text": [
      "Enter the number one:\n",
      "10000\n",
      "Enter,the number two:\n",
      "1.16\n",
      "Please Select your operation,\n",
      "S for Sums,\n",
      "R for Rest,\n",
      "M for Multiply and\n",
      "D for Division :\n",
      "d\n",
      "8620.689655172415\n",
      "None\n"
     ]
    }
   ],
   "source": [
    "#a caclulator created exclusevely with functions.\n",
    "\n",
    "def calculator(a,b):\n",
    "    a=float(input('Enter the number one:\\n'))\n",
    "    b=float(input('Enter,the number two:\\n'))\n",
    "    #functions to sums\n",
    "    def sums(a,b):\n",
    "        s=a+b\n",
    "        return s\n",
    "    \n",
    "\n",
    "    #Functions to rest\n",
    "\n",
    "    def rest(a,b):\n",
    "        r=a-b\n",
    "        return r\n",
    "    \n",
    "\n",
    "    #functions to multiply\n",
    "\n",
    "    def mult(a,b):\n",
    "        m=a*b\n",
    "        return m\n",
    "    \n",
    "\n",
    "\n",
    "    #Functions to Divide\n",
    "    def div(a,b):\n",
    "        d=a/b\n",
    "        return d\n",
    "    \n",
    "    def choose():\n",
    "        if a >0 and b>0:\n",
    "            \n",
    "            sel=input('Please Select your operation,\\nS for Sums,\\nR for Rest,\\nM for Multiply and\\nD for Division :\\n').lower()\n",
    "\n",
    "            if sel == 's':\n",
    "\n",
    "                print (sums(a,b))\n",
    "\n",
    "            elif sel == 'r':\n",
    "\n",
    "                print (rest(a,b))\n",
    "\n",
    "            elif sel =='m':\n",
    "\n",
    "                print( mult(a,b))\n",
    "\n",
    "            elif sel =='d':\n",
    "\n",
    "                print( div(a,b))\n",
    "            else:\n",
    "                print('Sorry, I cannot Calculate that operation!!')\n",
    "    return choose()\n",
    "\n",
    "print(calculator(a=0,b=0))       \n",
    "    "
   ]
  },
  {
   "cell_type": "code",
   "execution_count": null,
   "metadata": {
    "collapsed": true
   },
   "outputs": [],
   "source": []
  }
 ],
 "metadata": {
  "kernelspec": {
   "display_name": "Python [default]",
   "language": "python",
   "name": "python3"
  },
  "language_info": {
   "codemirror_mode": {
    "name": "ipython",
    "version": 3
   },
   "file_extension": ".py",
   "mimetype": "text/x-python",
   "name": "python",
   "nbconvert_exporter": "python",
   "pygments_lexer": "ipython3",
   "version": "3.5.6"
  }
 },
 "nbformat": 4,
 "nbformat_minor": 1
}
