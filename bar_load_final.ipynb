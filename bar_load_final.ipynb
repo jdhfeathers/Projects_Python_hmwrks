{
 "cells": [
  {
   "cell_type": "code",
   "execution_count": 4,
   "metadata": {},
   "outputs": [
    {
     "name": "stdout",
     "output_type": "stream",
     "text": [
      "\u001b[48;5;68m\n",
      "                    \n",
      "Ready!!\n"
     ]
    }
   ],
   "source": [
    "import time\n",
    "from time import sleep\n",
    "from overprint import overprint\n",
    "from colored import fg,bg,attr\n",
    "\n",
    "'''\n",
    "Declaring the object bar\n",
    "'''\n",
    "\n",
    "\n",
    "class Bar:\n",
    "    #initilizing the Class\n",
    "    \n",
    "    def __init__(self,symbol=' ',t=1):\n",
    "        self.symbol=symbol\n",
    "        self.t=t\n",
    "    \n",
    "    #M e t h o d s\n",
    "    \n",
    "    def prn_m(self):\n",
    "        with overprint() as (reprint,print):\n",
    "            print(bg(68))\n",
    "            while self.t <=10:\n",
    "                reprint(self.symbol*self.t*2)\n",
    "                time.sleep(.5)\n",
    "                self.t+=+1\n",
    "            return 'Ready!!'\n",
    "\n",
    "b=Bar()\n",
    "print(b.prn_m())"
   ]
  },
  {
   "cell_type": "code",
   "execution_count": null,
   "metadata": {
    "collapsed": true
   },
   "outputs": [],
   "source": []
  }
 ],
 "metadata": {
  "kernelspec": {
   "display_name": "Python [default]",
   "language": "python",
   "name": "python3"
  },
  "language_info": {
   "codemirror_mode": {
    "name": "ipython",
    "version": 3
   },
   "file_extension": ".py",
   "mimetype": "text/x-python",
   "name": "python",
   "nbconvert_exporter": "python",
   "pygments_lexer": "ipython3",
   "version": "3.5.6"
  }
 },
 "nbformat": 4,
 "nbformat_minor": 1
}
